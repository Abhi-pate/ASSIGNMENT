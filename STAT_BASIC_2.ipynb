{
 "cells": [
  {
   "cell_type": "markdown",
   "id": "6948bef7-e708-4458-957a-9f4740b30694",
   "metadata": {},
   "source": [
    "### QUESTION-1"
   ]
  },
  {
   "cell_type": "code",
   "execution_count": null,
   "id": "3430a91f-770b-4682-a7f1-7bce4c832202",
   "metadata": {},
   "outputs": [],
   "source": [
    "1.MEAN \n",
    "2.MEDIAN\n",
    "3.MODE"
   ]
  },
  {
   "cell_type": "markdown",
   "id": "0ffdb1f0-654e-4d72-9a4f-de602dcc8f6a",
   "metadata": {},
   "source": [
    "### QUESTION-2"
   ]
  },
  {
   "cell_type": "code",
   "execution_count": 1,
   "id": "0966fa2c-1603-4f4c-bba5-45adca1ae320",
   "metadata": {},
   "outputs": [],
   "source": [
    "# 1.MEAN- USED TO MEASURE AVERAGE OF NUMBER\n",
    "# 2.MEDIAN-USED TO MEASURE AVERAGE WHEN OUTLAIR PRESENT\n",
    "# 3.MODE- The mode value of a data set is the most frequently occurring value."
   ]
  },
  {
   "cell_type": "markdown",
   "id": "d1fd9f8b-e1b8-4da9-a6de-20088d6d5c13",
   "metadata": {},
   "source": [
    "### QUESTION-3"
   ]
  },
  {
   "cell_type": "code",
   "execution_count": 37,
   "id": "2cbf4fe4-59b4-4d48-af8e-f0126cc41637",
   "metadata": {},
   "outputs": [],
   "source": [
    "# import numpy as np\n",
    "# import statistics as stat\n",
    "# a=[178,177,176,177,178.2,178,175,179,180,175,178.9,176.2,177,172.5,178,176.5]\n",
    "\n"
   ]
  },
  {
   "cell_type": "code",
   "execution_count": 11,
   "id": "cbeb223f-d31f-4d41-a87e-f38c57139f66",
   "metadata": {},
   "outputs": [
    {
     "data": {
      "text/plain": [
       "177.01875"
      ]
     },
     "execution_count": 11,
     "metadata": {},
     "output_type": "execute_result"
    }
   ],
   "source": [
    "# np.mean(a)\n",
    "\n"
   ]
  },
  {
   "cell_type": "code",
   "execution_count": 10,
   "id": "54759b45-fccd-4b3c-a9dc-fab0a6831594",
   "metadata": {},
   "outputs": [
    {
     "data": {
      "text/plain": [
       "177.0"
      ]
     },
     "execution_count": 10,
     "metadata": {},
     "output_type": "execute_result"
    }
   ],
   "source": [
    "# np.median(a)"
   ]
  },
  {
   "cell_type": "code",
   "execution_count": 13,
   "id": "0375fa8b-1e04-4716-971f-d41d33550103",
   "metadata": {},
   "outputs": [
    {
     "data": {
      "text/plain": [
       "178"
      ]
     },
     "execution_count": 13,
     "metadata": {},
     "output_type": "execute_result"
    }
   ],
   "source": [
    "# stat.mode(a)"
   ]
  },
  {
   "cell_type": "markdown",
   "id": "fbe3a3c2-0e73-4feb-9500-0a294e7e5a6e",
   "metadata": {},
   "source": [
    "### QUESTION-4"
   ]
  },
  {
   "cell_type": "code",
   "execution_count": 15,
   "id": "bf2107c7-4925-4beb-b4ec-7fac09addd9a",
   "metadata": {},
   "outputs": [
    {
     "data": {
      "text/plain": [
       "1.7885814036548633"
      ]
     },
     "execution_count": 15,
     "metadata": {},
     "output_type": "execute_result"
    }
   ],
   "source": [
    "# sd=[178,177,176,177,178.2,178,175,179,180,175,178.9,176.2,177,172.5,178,176.5]\n",
    "# np.std(sd)"
   ]
  },
  {
   "cell_type": "markdown",
   "id": "fcf5c78e-31f9-45b8-ad19-d49a31e397e6",
   "metadata": {},
   "source": [
    "### QUESTION-5"
   ]
  },
  {
   "cell_type": "code",
   "execution_count": 20,
   "id": "16cc6bbb-d22e-483f-b11b-12434880e4d9",
   "metadata": {},
   "outputs": [
    {
     "data": {
      "text/plain": [
       "1.7885814036548633"
      ]
     },
     "execution_count": 20,
     "metadata": {},
     "output_type": "execute_result"
    }
   ],
   "source": [
    "# The range, the difference between the highest and lowest data values in a data set, indicates the total spread of the data\n",
    "# EX If the given data set is {2,5,8,10,3}, then the range will be 10 – 2 = 8.\n",
    "# Variance measures how far each number in the dataset from the mean.\n",
    "# EX The mean is given as (3 + 5 + 8 + 1) / 4 = 4.25.\n",
    "# Then by using the definition of variance we get [(3 - 4.25)2 + (5 - 4.25)2 + (8 - 4.25)2 + (1 - 4.25)2] / 4 = 6.68. Thus, variance = 6.68.\n",
    "# Standard deviation  is the most commonly used measure of dispersion. It is a measure of spread of data about the mean.\n",
    "# sd =[178,177,176,177,178.2,178,175,179,180,175,178.9,176.2,177,172.5,178,176.5]\n",
    "# np.std(sd)"
   ]
  },
  {
   "cell_type": "markdown",
   "id": "ec2fd832-7840-45a8-aac0-dc1a1cee1768",
   "metadata": {},
   "source": [
    "### QUESTION-6"
   ]
  },
  {
   "cell_type": "code",
   "execution_count": null,
   "id": "3bb9d32f-c12a-4ca5-85be-2a74dec6dda9",
   "metadata": {},
   "outputs": [],
   "source": [
    "# A Venn diagram is a widely used diagram style that shows the logical relation between sets."
   ]
  },
  {
   "cell_type": "markdown",
   "id": "c60cea93-160d-4376-b44c-950a2161208c",
   "metadata": {},
   "source": [
    "### QUESTION-7"
   ]
  },
  {
   "cell_type": "code",
   "execution_count": 27,
   "id": "bc57308e-5560-4290-bbb8-d0f7d908d7bd",
   "metadata": {},
   "outputs": [],
   "source": [
    "# a = {2,3,4,5,6,7}\n",
    "# b = {0,2,6,8,10}"
   ]
  },
  {
   "cell_type": "code",
   "execution_count": 28,
   "id": "13aac03b-899c-4969-a98f-340d1eea7d72",
   "metadata": {},
   "outputs": [
    {
     "data": {
      "text/plain": [
       "{2, 6}"
      ]
     },
     "execution_count": 28,
     "metadata": {},
     "output_type": "execute_result"
    }
   ],
   "source": [
    "# a.intersection(b)"
   ]
  },
  {
   "cell_type": "code",
   "execution_count": 29,
   "id": "28ab3fab-d31a-4742-964b-d28a1abfaa2b",
   "metadata": {},
   "outputs": [
    {
     "data": {
      "text/plain": [
       "{0, 2, 3, 4, 5, 6, 7, 8, 10}"
      ]
     },
     "execution_count": 29,
     "metadata": {},
     "output_type": "execute_result"
    }
   ],
   "source": [
    "# a.union(b)"
   ]
  },
  {
   "cell_type": "markdown",
   "id": "9aa477da-2ba6-42e4-b894-5211c101cad2",
   "metadata": {},
   "source": [
    "### QUESTION-8"
   ]
  },
  {
   "cell_type": "code",
   "execution_count": null,
   "id": "32f81389-db2f-4742-aaf4-189dd44dc85e",
   "metadata": {},
   "outputs": [],
   "source": [
    "# Skewness is a measurement of the distortion of symmetrical distribution or asymmetry in a data set."
   ]
  },
  {
   "cell_type": "markdown",
   "id": "fd237ff9-ab1d-46c9-8993-d4bb64a8ee90",
   "metadata": {},
   "source": [
    "### QUESTION-9"
   ]
  },
  {
   "cell_type": "code",
   "execution_count": 30,
   "id": "91b676e1-b47b-47d5-b845-aef14eb4d260",
   "metadata": {},
   "outputs": [],
   "source": [
    "# MEDIAN>MEAN"
   ]
  },
  {
   "cell_type": "markdown",
   "id": "35e57bd9-a0cf-458c-802e-b829dede9319",
   "metadata": {},
   "source": [
    "### QUESTION-10"
   ]
  },
  {
   "cell_type": "code",
   "execution_count": 32,
   "id": "7ee7bfa4-ce4f-405b-a505-39186e519400",
   "metadata": {},
   "outputs": [],
   "source": [
    "# Covariance(Can be positive or negative) shows you how the two variables differ, \n",
    "# whereas correlation(can be positive , negative or zero) shows you how the two variables are related."
   ]
  },
  {
   "cell_type": "markdown",
   "id": "6908b9eb-12c0-49f5-9863-9314738744b1",
   "metadata": {},
   "source": [
    "### QUESTION-11"
   ]
  },
  {
   "cell_type": "code",
   "execution_count": 33,
   "id": "cc40fd1b-ef69-43d7-9e74-0cd8693d5dd4",
   "metadata": {},
   "outputs": [
    {
     "data": {
      "text/plain": [
       "4.0"
      ]
     },
     "execution_count": 33,
     "metadata": {},
     "output_type": "execute_result"
    }
   ],
   "source": [
    "# # sample mean is given by x̄ = ( Σ xi ) / n.\n",
    "# A=[1,2,3,4,6,8]\n",
    "# np.mean(A)"
   ]
  },
  {
   "cell_type": "markdown",
   "id": "2b9402c8-86ba-4461-834c-d8a25c06b006",
   "metadata": {},
   "source": [
    "### QUESTION-12"
   ]
  },
  {
   "cell_type": "code",
   "execution_count": null,
   "id": "f7577543-382c-452c-b174-b04cea5ddf28",
   "metadata": {},
   "outputs": [],
   "source": [
    "# MEAN==MEDIAN==MODE"
   ]
  },
  {
   "cell_type": "markdown",
   "id": "df30e588-247c-46f6-994b-829b53466baa",
   "metadata": {},
   "source": [
    "### QUESTION-13"
   ]
  },
  {
   "cell_type": "code",
   "execution_count": null,
   "id": "b87c0066-554a-4eda-83b1-47e5b150e768",
   "metadata": {},
   "outputs": [],
   "source": [
    " # Covariance shows you how the two variables differ, whereas correlation shows you how the two variables are related"
   ]
  },
  {
   "cell_type": "markdown",
   "id": "045a4c2a-75b4-48db-b161-db5c37c77b37",
   "metadata": {},
   "source": [
    "### QUESTION-14"
   ]
  },
  {
   "cell_type": "code",
   "execution_count": 36,
   "id": "4597c47d-f7ae-4c2f-baaf-89f7a0b9e54b",
   "metadata": {},
   "outputs": [],
   "source": [
    "# Measures of central tendency are mean, median and mode.\n",
    "# Outliers affect the mean value of the data but have little effect on the median or mode of a given set of data.\n",
    "C=[1,2,3,4,4,4,5,6,7,8,100]"
   ]
  },
  {
   "cell_type": "code",
   "execution_count": 38,
   "id": "10fe07b2-e9dd-47b1-94b0-fdeb373a7504",
   "metadata": {},
   "outputs": [
    {
     "data": {
      "text/plain": [
       "13.090909090909092"
      ]
     },
     "execution_count": 38,
     "metadata": {},
     "output_type": "execute_result"
    }
   ],
   "source": [
    "# np.mean(C)"
   ]
  },
  {
   "cell_type": "code",
   "execution_count": 39,
   "id": "48c6cbda-818a-4345-9a1e-47d5bd04a4fb",
   "metadata": {},
   "outputs": [
    {
     "data": {
      "text/plain": [
       "4.0"
      ]
     },
     "execution_count": 39,
     "metadata": {},
     "output_type": "execute_result"
    }
   ],
   "source": [
    "# np.median(C)"
   ]
  },
  {
   "cell_type": "code",
   "execution_count": 40,
   "id": "c7146bee-1ee9-459a-8422-2295af026c68",
   "metadata": {},
   "outputs": [
    {
     "data": {
      "text/plain": [
       "4"
      ]
     },
     "execution_count": 40,
     "metadata": {},
     "output_type": "execute_result"
    }
   ],
   "source": [
    "# stat.mode(C)"
   ]
  },
  {
   "cell_type": "code",
   "execution_count": null,
   "id": "dc94781f-50a1-4dfb-9035-308a29460bce",
   "metadata": {},
   "outputs": [],
   "source": [
    "# SO HERE MEAN EFFECTED MOST AS COMPARE TO MEDIAN AND MODE"
   ]
  }
 ],
 "metadata": {
  "kernelspec": {
   "display_name": "Python 3 (ipykernel)",
   "language": "python",
   "name": "python3"
  },
  "language_info": {
   "codemirror_mode": {
    "name": "ipython",
    "version": 3
   },
   "file_extension": ".py",
   "mimetype": "text/x-python",
   "name": "python",
   "nbconvert_exporter": "python",
   "pygments_lexer": "ipython3",
   "version": "3.10.8"
  }
 },
 "nbformat": 4,
 "nbformat_minor": 5
}
