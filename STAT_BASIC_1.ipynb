{
 "cells": [
  {
   "cell_type": "markdown",
   "id": "d0b48c82-6a0c-4e02-91e1-0bdf971392cf",
   "metadata": {},
   "source": [
    "### QUESTION-1"
   ]
  },
  {
   "cell_type": "code",
   "execution_count": null,
   "id": "a08564f8-d7ea-49a8-b1bc-d70712681c03",
   "metadata": {},
   "outputs": [],
   "source": [
    " # Statistics is the study of the collection, analysis, interpretation, presentation, and organization of data."
   ]
  },
  {
   "cell_type": "markdown",
   "id": "e5c261c0-9502-4178-a7c7-d451577882c5",
   "metadata": {},
   "source": [
    "### QUESTION-2"
   ]
  },
  {
   "cell_type": "code",
   "execution_count": 1,
   "id": "0dce45ab-1e8c-45c2-a97b-9b404ed300e1",
   "metadata": {},
   "outputs": [],
   "source": [
    "# DESCRIPTIVE STATISTICS- AVERAGE HEIGHT OF CLASS\n",
    "# INFERENTIAL STATISTICS- ELECTION POLL PREDICTION"
   ]
  },
  {
   "cell_type": "markdown",
   "id": "afe76d36-0237-4e89-a171-a36b31668d06",
   "metadata": {},
   "source": [
    "### QUESTION-3"
   ]
  },
  {
   "cell_type": "code",
   "execution_count": 2,
   "id": "d2a9e82b-b89a-42a4-8401-ac6ac4760433",
   "metadata": {},
   "outputs": [],
   "source": [
    "\n",
    "# QUANTITAVIVE:\n",
    "#     DISCRETE-NO OF STUDENT IN CLASS\n",
    "#     CONTINUOUS-HEIGHT OF STUDENT\n",
    "# QUALITAVIVE:\n",
    "#     NOMINAL-GENDER\n",
    "#     ORDINAL-CUSTOMER FEEDBACK"
   ]
  },
  {
   "cell_type": "markdown",
   "id": "1b4e18a2-c256-413e-88e4-c32b8f0e7669",
   "metadata": {},
   "source": [
    "### QUESTION-4"
   ]
  },
  {
   "cell_type": "code",
   "execution_count": 3,
   "id": "77364822-85a8-48d4-a25e-ee6a0f5f2776",
   "metadata": {},
   "outputs": [],
   "source": [
    "# 1-QUALITATIVE-ORDINAL\n",
    "# 2-QUALITATVIE-NOMINAL\n",
    "# 3-QUANTITATIVE-CONTINUOUS\n",
    "# 4-QUANTITATIVE-DISCRETE"
   ]
  },
  {
   "cell_type": "markdown",
   "id": "ba76f870-eed7-450b-b5fd-3d6aee4b666c",
   "metadata": {},
   "source": [
    "### QUESTION-5"
   ]
  },
  {
   "cell_type": "code",
   "execution_count": 5,
   "id": "82d7f4a9-e171-4c63-9156-39cebc3787a1",
   "metadata": {},
   "outputs": [],
   "source": [
    "# There are 4 levels of measurement:\n",
    "\n",
    "# Nominal: the data can only be categorized.\n",
    "# EX-Car brands & Marital status\n",
    "# Ordinal: the data can be categorized and ranked.\n",
    "# EX- Olympic medallists & Language ability\n",
    "# Interval: the data can be categorized, ranked, and evenly spaced.\n",
    "# EX-Test scores & Temperature in Fahrenheit or Celsius\n",
    "# Ratio: the data can be categorized, ranked, evenly spaced, and has a natural zero.\n",
    "# EX-Height & Age"
   ]
  },
  {
   "cell_type": "markdown",
   "id": "858875e7-380f-4a7b-bb73-7a68c7f79303",
   "metadata": {},
   "source": [
    "### QUESTION-6"
   ]
  },
  {
   "cell_type": "code",
   "execution_count": 7,
   "id": "35078550-c12c-40e5-8f9b-d77b8c810314",
   "metadata": {},
   "outputs": [],
   "source": [
    "# The level at which you measure a variable determines how you can analyze your data.\n",
    "# The different levels limit which descriptive statistics you can use to get an overall summary of your data, \n",
    "# and which type of inferential statistics you can perform on your data to support or refute your hypothesis.\n",
    "# RATIO LEVEL:\n",
    "# For example, in the Kelvin temperature scale, there are no negative degrees of temperature – zero means an absolute lack of thermal energy."
   ]
  },
  {
   "cell_type": "markdown",
   "id": "cc11fb28-6255-4a1f-91e2-f2cb66407973",
   "metadata": {},
   "source": [
    "### QUESTION-7"
   ]
  },
  {
   "cell_type": "code",
   "execution_count": 8,
   "id": "310e8a12-23a8-4c54-8579-154721db9990",
   "metadata": {},
   "outputs": [],
   "source": [
    "# Nominal scale is a naming scale, where variables are simply “named” or labeled, with no specific order. \n",
    "# Ordinal scale has all its variables in a specific order, beyond just naming them. "
   ]
  },
  {
   "cell_type": "markdown",
   "id": "9d0b765e-84ab-4c56-bc6a-bd3539f64549",
   "metadata": {},
   "source": [
    "### QUESTION-8"
   ]
  },
  {
   "cell_type": "code",
   "execution_count": 10,
   "id": "f78071d8-d6f7-4ad8-983a-12612e6f6654",
   "metadata": {},
   "outputs": [],
   "source": [
    "# HISTOGRAM"
   ]
  },
  {
   "cell_type": "markdown",
   "id": "51453bd3-8f7d-4361-92e8-ece26d75f26f",
   "metadata": {},
   "source": [
    "### QUESTION-9"
   ]
  },
  {
   "cell_type": "code",
   "execution_count": 11,
   "id": "1699e369-5838-4c7c-90ef-b2becdd1228b",
   "metadata": {},
   "outputs": [],
   "source": [
    "# # Descriptive statistics summarize the characteristics of a data set.\n",
    "# EX- HEIGHT(AVERAGRE) OF STUDENT IN CLASSROOM \n",
    "# # Inferential statistics allow you to test a hypothesis or assess whether your data is generalizable to the broader population\n",
    "# EX- HEIGHT(AVERAGRE) OF STUDENT IN CLASSROOM FOR PREDICTING THE HEIGHT OF POPULATION IN CAMPUS"
   ]
  },
  {
   "cell_type": "markdown",
   "id": "a2dbf381-06e3-4acd-980f-b7ba91ba97b7",
   "metadata": {},
   "source": [
    "### QUESTION-10"
   ]
  },
  {
   "cell_type": "code",
   "execution_count": null,
   "id": "2da084ca-a527-4141-ac87-0f8ed8095b94",
   "metadata": {},
   "outputs": [],
   "source": [
    "# MEASURE OF CENTAL TENDENCY\n",
    "# MEAN-USE TO FIND THE AVERAGE\n",
    "# MEDIAN- USE WHEN OUTLIAR PRESENT\n",
    "# MODE- WHEN ONE DATA REPEAT MANY TYPES THEN USED TO FIND FREQUENCY\n",
    "# VARIABILITY\n",
    "# VARIANCE-TO MEASURE SPREAD OF DATA\n",
    "# STANDARD DEVIATION-TO MEASURE THE DEVIATION ARROUND MEAN"
   ]
  }
 ],
 "metadata": {
  "kernelspec": {
   "display_name": "Python 3 (ipykernel)",
   "language": "python",
   "name": "python3"
  },
  "language_info": {
   "codemirror_mode": {
    "name": "ipython",
    "version": 3
   },
   "file_extension": ".py",
   "mimetype": "text/x-python",
   "name": "python",
   "nbconvert_exporter": "python",
   "pygments_lexer": "ipython3",
   "version": "3.10.8"
  }
 },
 "nbformat": 4,
 "nbformat_minor": 5
}
