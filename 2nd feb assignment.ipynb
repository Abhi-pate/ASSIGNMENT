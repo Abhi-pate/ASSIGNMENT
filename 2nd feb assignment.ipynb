{
 "cells": [
  {
   "cell_type": "markdown",
   "id": "136fedfd-c44c-4a5e-9e12-f17130c2f42a",
   "metadata": {},
   "source": [
    "### Question-1"
   ]
  },
  {
   "cell_type": "code",
   "execution_count": 3,
   "id": "9ca909ec-db46-4a5c-b1e6-e2d0466cdd80",
   "metadata": {},
   "outputs": [
    {
     "name": "stdout",
     "output_type": "stream",
     "text": [
      "hello\n",
      "hello\n",
      "hello\n",
      "hello\n",
      "hello\n",
      "0\n",
      "2\n",
      "4\n",
      "6\n",
      "8\n"
     ]
    }
   ],
   "source": [
    "# Use a for loop when you know the loop should execute n times.\n",
    "# A \"While\" Loop is used to repeat a specific block of code an unknown number of times, until a condition is met.\n",
    "for i in range(10):\n",
    "    if i%2==0:\n",
    "        print(\"hello\")\n",
    "        \n",
    "n=0\n",
    "while n<5:\n",
    "    print(n*2)\n",
    "    n=n+1\n",
    "        \n",
    "        \n",
    "\n"
   ]
  },
  {
   "cell_type": "markdown",
   "id": "650ab5ba-da9f-4c4f-8105-4883f123b9af",
   "metadata": {},
   "source": [
    "### Question-2"
   ]
  },
  {
   "cell_type": "code",
   "execution_count": 7,
   "id": "92f1e5e6-edc2-4d18-b692-c9b6098f54aa",
   "metadata": {},
   "outputs": [
    {
     "name": "stdout",
     "output_type": "stream",
     "text": [
      "sum= 55 multiply= 3628800\n",
      "sum= 55 multiply= 3628800\n"
     ]
    }
   ],
   "source": [
    "# through for loop\n",
    "add=0\n",
    "multiply= 1\n",
    "for i in range(1,11):\n",
    "    add= add+i\n",
    "    multiply= multiply*i\n",
    "print (\"sum=\",add, \"multiply=\", multiply)  \n",
    "# through while loop\n",
    "\n",
    "n= 1\n",
    "add =0\n",
    "multiply=1\n",
    "while (n<=10):\n",
    "    add=n+add\n",
    "    multiply=multiply*n\n",
    "    n=n+1\n",
    "print(\"sum=\", add, \"multiply=\", multiply)    \n",
    "    "
   ]
  },
  {
   "cell_type": "markdown",
   "id": "c49bf706-8d32-4c84-a44f-a797cff7a2c2",
   "metadata": {},
   "source": [
    "### Question-3"
   ]
  },
  {
   "cell_type": "code",
   "execution_count": 3,
   "id": "341899f0-e2b5-436c-8b9a-9328803eccff",
   "metadata": {},
   "outputs": [
    {
     "name": "stdin",
     "output_type": "stream",
     "text": [
      "enter 310\n"
     ]
    },
    {
     "name": "stdout",
     "output_type": "stream",
     "text": [
      "2250.0\n"
     ]
    }
   ],
   "source": [
    "unit= int(input(\"enter\"))\n",
    "if unit<=100:\n",
    "    print( (unit*4.5))\n",
    "elif unit>100 and unit<=200:\n",
    "         print( (100*4.5 + (unit-100)*6))\n",
    "elif unit>200 and unit<=300:\n",
    "            print( (100*4.5 + 100*6+(unit-200)*10))\n",
    "else:\n",
    "    print( (100*4.5 + 100*6+100*10+(unit-300)*20))\n",
    "   \n",
    "\n",
    "    "
   ]
  },
  {
   "cell_type": "markdown",
   "id": "05f7c20a-aeef-494a-81f8-c98fa2928e32",
   "metadata": {},
   "source": [
    "### Question-4"
   ]
  },
  {
   "cell_type": "code",
   "execution_count": 3,
   "id": "9025e0bc-6863-4861-9edf-d48aef51d0e4",
   "metadata": {},
   "outputs": [
    {
     "data": {
      "text/plain": [
       "[2,\n",
       " 4,\n",
       " 5,\n",
       " 6,\n",
       " 8,\n",
       " 10,\n",
       " 12,\n",
       " 14,\n",
       " 15,\n",
       " 16,\n",
       " 18,\n",
       " 20,\n",
       " 22,\n",
       " 24,\n",
       " 25,\n",
       " 26,\n",
       " 28,\n",
       " 30,\n",
       " 32,\n",
       " 34,\n",
       " 35,\n",
       " 36,\n",
       " 38,\n",
       " 40,\n",
       " 42,\n",
       " 44,\n",
       " 45,\n",
       " 46,\n",
       " 48,\n",
       " 50,\n",
       " 52,\n",
       " 54,\n",
       " 55,\n",
       " 56,\n",
       " 58,\n",
       " 60,\n",
       " 62,\n",
       " 64,\n",
       " 65,\n",
       " 66,\n",
       " 68,\n",
       " 70,\n",
       " 72,\n",
       " 74,\n",
       " 75,\n",
       " 76,\n",
       " 78,\n",
       " 80,\n",
       " 82,\n",
       " 84,\n",
       " 85,\n",
       " 86,\n",
       " 88,\n",
       " 90,\n",
       " 92,\n",
       " 94,\n",
       " 95,\n",
       " 96,\n",
       " 98,\n",
       " 100]"
      ]
     },
     "execution_count": 3,
     "metadata": {},
     "output_type": "execute_result"
    }
   ],
   "source": [
    "l= list(range(1,101))\n",
    "l1=[]\n",
    "for i in l:\n",
    "    if (i**3%4==0 )or (i**3%5==0):\n",
    "        l1.append(i)\n",
    "l1\n"
   ]
  },
  {
   "cell_type": "markdown",
   "id": "d8b93248-8833-4a76-b2cb-3bddc8fe8147",
   "metadata": {},
   "source": [
    "### Question-5"
   ]
  },
  {
   "cell_type": "code",
   "execution_count": 6,
   "id": "22b240a5-794d-4bb8-bb51-501d0688b08d",
   "metadata": {},
   "outputs": [
    {
     "ename": "TypeError",
     "evalue": "string indices must be integers",
     "output_type": "error",
     "traceback": [
      "\u001b[0;31m---------------------------------------------------------------------------\u001b[0m",
      "\u001b[0;31mTypeError\u001b[0m                                 Traceback (most recent call last)",
      "Cell \u001b[0;32mIn[6], line 6\u001b[0m\n\u001b[1;32m      4\u001b[0m \u001b[38;5;28;01mfor\u001b[39;00m i \u001b[38;5;129;01min\u001b[39;00m string:\n\u001b[1;32m      5\u001b[0m     \u001b[38;5;28;01mfor\u001b[39;00m j \u001b[38;5;129;01min\u001b[39;00m l:\n\u001b[0;32m----> 6\u001b[0m         \u001b[38;5;28;01mif\u001b[39;00m \u001b[38;5;28mstr\u001b[39m(\u001b[43mstring\u001b[49m\u001b[43m[\u001b[49m\u001b[43mi\u001b[49m\u001b[43m]\u001b[49m)\u001b[38;5;241m==\u001b[39m\u001b[38;5;28mstr\u001b[39m(l[j]):\n\u001b[1;32m      7\u001b[0m             count\u001b[38;5;241m=\u001b[39m count\u001b[38;5;241m+\u001b[39m\u001b[38;5;241m1\u001b[39m\n",
      "\u001b[0;31mTypeError\u001b[0m: string indices must be integers"
     ]
    }
   ],
   "source": [
    "string = \"I want to become a data scientist\"\n",
    "l=[\"a\",\"e\",\"i\",\"o\",\"u\",\"I\"]\n",
    "count=0\n",
    "for i in string:\n",
    "    for j in l:\n",
    "        if str(string[i])==str(l[j]):\n",
    "            count= count+1\n",
    "        "
   ]
  },
  {
   "cell_type": "code",
   "execution_count": 8,
   "id": "f76b14ba-3b68-4b34-b0cf-4848b8d40481",
   "metadata": {},
   "outputs": [
    {
     "name": "stdout",
     "output_type": "stream",
     "text": [
      "I\n",
      " \n",
      "w\n",
      "a\n",
      "n\n",
      "t\n",
      " \n",
      "t\n",
      "o\n",
      " \n",
      "b\n",
      "e\n",
      "c\n",
      "o\n",
      "m\n",
      "e\n",
      " \n",
      "a\n",
      " \n",
      "d\n",
      "a\n",
      "t\n",
      "a\n",
      " \n",
      "s\n",
      "c\n",
      "i\n",
      "e\n",
      "n\n",
      "t\n",
      "i\n",
      "s\n",
      "t\n"
     ]
    }
   ],
   "source": [
    "for i in string:\n",
    "    print(i)"
   ]
  },
  {
   "cell_type": "code",
   "execution_count": null,
   "id": "4e7d641a-a321-45c5-a5ca-1b0cbcebfeff",
   "metadata": {},
   "outputs": [],
   "source": []
  }
 ],
 "metadata": {
  "kernelspec": {
   "display_name": "Python 3 (ipykernel)",
   "language": "python",
   "name": "python3"
  },
  "language_info": {
   "codemirror_mode": {
    "name": "ipython",
    "version": 3
   },
   "file_extension": ".py",
   "mimetype": "text/x-python",
   "name": "python",
   "nbconvert_exporter": "python",
   "pygments_lexer": "ipython3",
   "version": "3.10.8"
  }
 },
 "nbformat": 4,
 "nbformat_minor": 5
}
