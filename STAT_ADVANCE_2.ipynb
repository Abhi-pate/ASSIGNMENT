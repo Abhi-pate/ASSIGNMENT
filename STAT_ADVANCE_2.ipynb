{
 "cells": [
  {
   "cell_type": "markdown",
   "id": "2ce010ba-b040-4cb8-b444-215fe14edd80",
   "metadata": {},
   "source": [
    "### QUESTION-1"
   ]
  },
  {
   "cell_type": "code",
   "execution_count": 1,
   "id": "d5dffd0b-0ffe-4713-a8bb-29df0354d451",
   "metadata": {},
   "outputs": [],
   "source": [
    "# The probability mass function (PMF) is used to describe discrete probability distributions. In contrast, \n",
    "# the probability density function (PDF) is applied to describe continuous probability distributions.\n",
    "# EX- FINDING THE PROBABILITY OF SUCCESS OF TRAILS IN COIN\n",
    "# EX- FINDING THE PROBABILITY OF HEIGHT OF STUDENT IN CLASS"
   ]
  },
  {
   "cell_type": "markdown",
   "id": "93bf57ae-0e69-4f66-8c7b-2f0355e317e4",
   "metadata": {},
   "source": [
    "### QUESTION-2"
   ]
  },
  {
   "cell_type": "code",
   "execution_count": 2,
   "id": "6fefa793-8ed9-4dc7-9208-d3309243801d",
   "metadata": {},
   "outputs": [],
   "source": [
    "# The cumulative distribution function is used to describe the probability distribution of random variables. \n",
    "# It can be used to describe the probability for a discrete, continuous or mixed variable.\n",
    "# We know that the probability of getting an outcome by rolling a six-sided die is given as:\n",
    "#     Probability of getting 2 = P(X≤ 2 ) = 2 / 6"
   ]
  },
  {
   "cell_type": "markdown",
   "id": "38e08478-e1a9-4d5f-922f-4e8427be5f50",
   "metadata": {},
   "source": [
    "### QUESTION-3"
   ]
  },
  {
   "cell_type": "code",
   "execution_count": null,
   "id": "1ec9e761-8f0b-490b-9199-6a6ba8c75b11",
   "metadata": {},
   "outputs": [],
   "source": [
    "# Height. The height of people is an example of normal distribution.\n",
    "# The standard deviation determines the width of the curve, and it tightens or expands the width of the distribution along the x-axis.\n",
    "# Typically, a small standard deviation relative to the mean produces a steep curve,\n",
    "# while a large standard deviation relative to the mean produces a flatter curve."
   ]
  },
  {
   "cell_type": "markdown",
   "id": "7c02243e-a1c4-4e1f-bfd3-048104f3a404",
   "metadata": {},
   "source": [
    "### QUESTION-4"
   ]
  },
  {
   "cell_type": "code",
   "execution_count": null,
   "id": "66126e70-d7ec-4bce-a027-ac27ac5fd4e7",
   "metadata": {},
   "outputs": [],
   "source": [
    "# The normal distribution is an important probability distribution in math and statistics because \n",
    "# many continuous data in nature and psychology display this bell-shaped curve when compiled and graphed.\n",
    "# Height. The height of people is an example of normal distribution. \n",
    "# Rolling A Dice. A fair rolling of dice is also a good example of normal distribution."
   ]
  },
  {
   "cell_type": "markdown",
   "id": "4e4b19da-5db2-4170-9d9b-cee8deec1213",
   "metadata": {},
   "source": [
    "### QUESTION-5"
   ]
  },
  {
   "cell_type": "code",
   "execution_count": null,
   "id": "075371c5-00de-491e-a044-f97698b9f795",
   "metadata": {},
   "outputs": [],
   "source": [
    "# # The Bernoulli distribution is a special case of the binomial distribution where a single trial is conducted.\n",
    "# # ex-Tossing a coin one time.\n",
    "# The Bernoulli distribution represents the success or failure of a single Bernoulli trial.\n",
    "# The Binomial Distribution represents the number of successes and failures in n independent Bernoulli trials for some given value of n.\n"
   ]
  },
  {
   "cell_type": "markdown",
   "id": "b676980f-67e1-4abe-9644-9c2a276ba9f2",
   "metadata": {},
   "source": [
    "### QUESTION-6"
   ]
  },
  {
   "cell_type": "code",
   "execution_count": null,
   "id": "2a1d7d2c-16aa-4b28-812b-197155a6592e",
   "metadata": {},
   "outputs": [],
   "source": [
    "MEAN=50\n",
    "STD=10\n",
    "X=60\n",
    "Z_SCORE= X-MEAN/STD= -1\n",
    "Z-SCORE=.1587\n",
    "AREA>60 =1-Z_SCORE\n",
    "        =.8413\n",
    "        =84.13\n"
   ]
  },
  {
   "cell_type": "markdown",
   "id": "991c2909-aa08-4dba-bfe8-b8b0188ffb9a",
   "metadata": {},
   "source": [
    "### QUESTION-7"
   ]
  },
  {
   "cell_type": "code",
   "execution_count": null,
   "id": "ef2ac8c6-6cc8-4246-b1c6-f95a36716a2d",
   "metadata": {},
   "outputs": [],
   "source": [
    "# uniform distribution refers to a type of probability distribution in which all outcomes are equally likely.\n",
    "# A deck of cards has within it uniform distributions becausethe likelihood of drawing a heart, a club, a diamond, or a spade is equally likely."
   ]
  },
  {
   "cell_type": "markdown",
   "id": "5ba76cdf-d0fb-4358-a531-a977237882f2",
   "metadata": {},
   "source": [
    "### QUESTION-8"
   ]
  },
  {
   "cell_type": "code",
   "execution_count": null,
   "id": "73b0d4cb-e482-4435-93c3-1ab572d1bf04",
   "metadata": {},
   "outputs": [],
   "source": [
    "# A z-score is important because it tells where your data lies in the data distribution. \n",
    "# For example, if a z-score is 1.5, it is 1.5 standard deviations away from the mean."
   ]
  },
  {
   "cell_type": "markdown",
   "id": "bbc0c297-885e-401a-84b4-540573d33f00",
   "metadata": {},
   "source": [
    "### QUESTION-9"
   ]
  },
  {
   "cell_type": "code",
   "execution_count": null,
   "id": "3d2e4a2c-ba49-48b7-b7c6-4962f002665e",
   "metadata": {},
   "outputs": [],
   "source": [
    "# The CLT is a statistical theory that states that -\n",
    "# if you take a sufficiently large sample size from a population with a finite level of variance, \n",
    "# the mean of all samples from that population will be roughly equal to the population mean"
   ]
  },
  {
   "cell_type": "markdown",
   "id": "fc2a0ac6-0ef1-44d7-bd1c-114f302e0a4b",
   "metadata": {},
   "source": [
    "### QUESTION-10"
   ]
  },
  {
   "cell_type": "code",
   "execution_count": null,
   "id": "e1d7a1bd-3b7f-44ec-8061-ba29a112e65c",
   "metadata": {},
   "outputs": [],
   "source": [
    "# The data should be sampled randomly. \n",
    "# The samples should be independent of each other. \n",
    "# The sample size should be sufficiently large but not exceed 10% of the population."
   ]
  }
 ],
 "metadata": {
  "kernelspec": {
   "display_name": "Python 3 (ipykernel)",
   "language": "python",
   "name": "python3"
  },
  "language_info": {
   "codemirror_mode": {
    "name": "ipython",
    "version": 3
   },
   "file_extension": ".py",
   "mimetype": "text/x-python",
   "name": "python",
   "nbconvert_exporter": "python",
   "pygments_lexer": "ipython3",
   "version": "3.10.8"
  }
 },
 "nbformat": 4,
 "nbformat_minor": 5
}
