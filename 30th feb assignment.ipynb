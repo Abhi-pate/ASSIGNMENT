{
 "cells": [
  {
   "cell_type": "markdown",
   "id": "bdc4850e-b5ef-47dd-a29c-4a67143f750b",
   "metadata": {},
   "source": [
    "### Question-1"
   ]
  },
  {
   "cell_type": "code",
   "execution_count": 10,
   "id": "889b729f-cd8a-4246-a413-6a3419450e9d",
   "metadata": {},
   "outputs": [
    {
     "name": "stdin",
     "output_type": "stream",
     "text": [
      "enter your marks 95\n"
     ]
    },
    {
     "name": "stdout",
     "output_type": "stream",
     "text": [
      "Grade= A\n"
     ]
    }
   ],
   "source": [
    "marks= int(input(\"enter your marks\"))\n",
    "if marks>90:\n",
    "    print(\"Grade=\", \"A\")\n",
    "elif marks >80 and marks<= 90:\n",
    "    print(\"Grade=\",\"B\")\n",
    "elif marks >=60 and marks<=80:\n",
    "    print(\"Grade=\",\"C\")\n",
    "else:\n",
    "    print(\"Grade=\",\"D\")"
   ]
  },
  {
   "cell_type": "markdown",
   "id": "772c2875-e613-4f02-ae4c-a4af7510c7ef",
   "metadata": {},
   "source": [
    "### Question-2"
   ]
  },
  {
   "cell_type": "code",
   "execution_count": 20,
   "id": "3cbc2c41-4cd7-424f-8ac1-32a4af779ce5",
   "metadata": {},
   "outputs": [
    {
     "name": "stdin",
     "output_type": "stream",
     "text": [
      "enter your bike price 66666\n"
     ]
    },
    {
     "name": "stdout",
     "output_type": "stream",
     "text": [
      "tax= 10%\n"
     ]
    }
   ],
   "source": [
    "bike= int(input(\"enter your bike price\"))\n",
    "if bike>100000:\n",
    "    print(\"tax=\", \"15%\")\n",
    "elif bike>50000 and bike<= 100000:\n",
    "    print(\"tax=\",\"10%\")\n",
    "else:\n",
    "    print(\"tax=\", \"5%\" )"
   ]
  },
  {
   "cell_type": "markdown",
   "id": "503c0c67-6052-486d-8814-fe15960085e9",
   "metadata": {},
   "source": [
    "### Question-3"
   ]
  },
  {
   "cell_type": "code",
   "execution_count": 19,
   "id": "f5af743f-8ae4-4860-ac88-62440a4d90c4",
   "metadata": {},
   "outputs": [
    {
     "name": "stdin",
     "output_type": "stream",
     "text": [
      "enter city name Delhi\n"
     ]
    },
    {
     "name": "stdout",
     "output_type": "stream",
     "text": [
      "monument= Red Fort\n"
     ]
    }
   ],
   "source": [
    "city= input(\"enter city name\")\n",
    "if city==\"Delhi\":\n",
    "    print(\"monument=\", \"Red Fort\")\n",
    "elif city== \"Agra\":\n",
    "    print(\"monument=\",\"Taj-mahal\")\n",
    "elif city== \"Jaipur\":\n",
    "    print(\"monument=\",\"Jal-Mahal\")\n",
    "else:\n",
    "    print(\"Enter city name is worng\" )"
   ]
  },
  {
   "cell_type": "markdown",
   "id": "35f48b2d-b48d-4dc8-bca9-38fdfbdea9c3",
   "metadata": {},
   "source": [
    "### Question-4"
   ]
  },
  {
   "cell_type": "markdown",
   "id": "dc7475ff-a3ed-4203-81bd-d727ba597142",
   "metadata": {},
   "source": [
    "n= int(input(\"enter number less than or equalto 10\"))\n",
    "count=0\n",
    "for i in range(n):\n",
    "    if i%3==0:\n",
    "        \n",
    "        count=count+1\n",
    "    \n",
    "print(count)    \n",
    "    "
   ]
  },
  {
   "cell_type": "markdown",
   "id": "655043b2-bc26-4f90-a840-c4a266591341",
   "metadata": {},
   "source": [
    "### Question-5"
   ]
  },
  {
   "cell_type": "code",
   "execution_count": 38,
   "id": "2df94f23-eb52-4b46-b001-5c7fb6100923",
   "metadata": {},
   "outputs": [
    {
     "name": "stdout",
     "output_type": "stream",
     "text": [
      "Hello pw\n",
      "Hello pw\n",
      "Hello pw\n"
     ]
    }
   ],
   "source": [
    "# Python While Loop is used to execute a block of statements repeatedly until a given condition is satisfied. \n",
    "# And when the condition becomes false, the line immediately after the loop in the program is executed.\n",
    "count = 0\n",
    "while (count < 3):\n",
    "    count = count + 1\n",
    "    print(\"Hello pw\")"
   ]
  },
  {
   "cell_type": "markdown",
   "id": "55795a1b-e085-4433-bda0-1e021d434674",
   "metadata": {},
   "source": [
    "### question 7&8"
   ]
  },
  {
   "cell_type": "markdown",
   "id": "ed71b8b3-28bf-49eb-9de6-dc4304dd9bf6",
   "metadata": {},
   "source": [
    "### Question-6"
   ]
  },
  {
   "cell_type": "code",
   "execution_count": 8,
   "id": "49da7206-96f4-4d4a-8d40-bc9c4d934925",
   "metadata": {},
   "outputs": [
    {
     "name": "stdout",
     "output_type": "stream",
     "text": [
      "* \n",
      "** \n",
      "*** \n",
      "**** \n",
      "***** \n",
      "****** \n",
      "******* \n",
      "******** \n",
      "********* \n"
     ]
    }
   ],
   "source": [
    "n=1 \n",
    "m=10\n",
    "while(m>0):\n",
    "    while(n<m):\n",
    "        print(\"*\"*n, end=\"\")\n",
    "        print(\" \")\n",
    "        n=n+1\n",
    "    m=m-1    "
   ]
  },
  {
   "cell_type": "code",
   "execution_count": 2,
   "id": "3b953dbb-4489-47b2-aea0-514b0da06321",
   "metadata": {},
   "outputs": [
    {
     "name": "stdout",
     "output_type": "stream",
     "text": [
      "********** \n",
      "********* \n",
      "******** \n",
      "******* \n",
      "****** \n",
      "***** \n",
      "**** \n",
      "*** \n",
      "** \n",
      "* \n"
     ]
    }
   ],
   "source": [
    "n=10 \n",
    "m=0\n",
    "while(m<n):\n",
    "    while(n>m):\n",
    "        print(\"*\"*n, end=\"\")\n",
    "        print(\" \")\n",
    "        n=n-1\n",
    "    m=m+1  "
   ]
  },
  {
   "cell_type": "code",
   "execution_count": 3,
   "id": "158ea82d-2cc7-4871-8200-ecfb71077f44",
   "metadata": {},
   "outputs": [
    {
     "name": "stdout",
     "output_type": "stream",
     "text": [
      "******************** \n",
      "****************** \n",
      "**************** \n",
      "************** \n",
      "************ \n",
      "********** \n",
      "******** \n",
      "****** \n",
      "**** \n",
      "** \n",
      " \n",
      "** \n",
      "**** \n",
      "****** \n",
      "******** \n",
      "********** \n",
      "************ \n",
      "************** \n",
      "**************** \n",
      "****************** \n"
     ]
    }
   ],
   "source": [
    "n=10 \n",
    "m=0\n",
    "\n",
    "while(m<n):\n",
    "    while(n>m):\n",
    "        print(\"**\"*n , end=\"\")\n",
    "        print(\" \")\n",
    "        n=n-1\n",
    "    m=m+2    \n",
    "  \n",
    "            \n",
    "n=0 \n",
    "m=10\n",
    "\n",
    "while(m>n):\n",
    "    while(n<m):\n",
    "        print(\"**\"*n , end=\"\")\n",
    "        print(\" \")\n",
    "        n=n+1\n",
    "    m=m-2    \n",
    "                \n",
    "      \n",
    "            \n",
    "  "
   ]
  },
  {
   "cell_type": "code",
   "execution_count": 6,
   "id": "f66553c4-1b28-4306-8e85-4373755d5d61",
   "metadata": {},
   "outputs": [
    {
     "name": "stdout",
     "output_type": "stream",
     "text": [
      "10\n",
      "9\n",
      "8\n",
      "7\n",
      "6\n",
      "5\n",
      "4\n",
      "3\n",
      "2\n",
      "1\n"
     ]
    }
   ],
   "source": [
    "n =10\n",
    "while n!=0:\n",
    "    print(n)\n",
    "    n=n-1\n",
    "    \n",
    "    \n",
    "   \n"
   ]
  },
  {
   "cell_type": "code",
   "execution_count": null,
   "id": "c0963f1d-b847-416b-bb19-221084d37187",
   "metadata": {},
   "outputs": [],
   "source": []
  }
 ],
 "metadata": {
  "kernelspec": {
   "display_name": "Python 3 (ipykernel)",
   "language": "python",
   "name": "python3"
  },
  "language_info": {
   "codemirror_mode": {
    "name": "ipython",
    "version": 3
   },
   "file_extension": ".py",
   "mimetype": "text/x-python",
   "name": "python",
   "nbconvert_exporter": "python",
   "pygments_lexer": "ipython3",
   "version": "3.10.8"
  }
 },
 "nbformat": 4,
 "nbformat_minor": 5
}
