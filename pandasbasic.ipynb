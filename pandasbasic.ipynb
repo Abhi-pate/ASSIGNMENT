{
 "cells": [
  {
   "cell_type": "code",
   "execution_count": 30,
   "id": "62ebd572-195f-4d4d-883b-d145e309bc46",
   "metadata": {},
   "outputs": [],
   "source": [
    "import pandas as pd"
   ]
  },
  {
   "cell_type": "markdown",
   "id": "09b7cbd5-f3a7-4470-b798-f01885a6af49",
   "metadata": {},
   "source": [
    "### QUESTION-1"
   ]
  },
  {
   "cell_type": "code",
   "execution_count": 11,
   "id": "c45ba1b5-675d-4359-919a-f3939cf2b08c",
   "metadata": {},
   "outputs": [
    {
     "name": "stdout",
     "output_type": "stream",
     "text": [
      "0     4\n",
      "1     8\n",
      "2    15\n",
      "3    16\n",
      "4    23\n",
      "5    42\n",
      "dtype: int64\n"
     ]
    }
   ],
   "source": [
    "print(pd.Series([4, 8, 15, 16, 23,42] ,index=[0,1,2,3,4,5]))"
   ]
  },
  {
   "cell_type": "markdown",
   "id": "5c3c4b51-79bd-435d-b3cd-0594899c02a9",
   "metadata": {},
   "source": [
    "### QUESTION-2"
   ]
  },
  {
   "cell_type": "code",
   "execution_count": 25,
   "id": "8811616b-4ba7-4b1b-b2f7-9a417e183f4d",
   "metadata": {},
   "outputs": [],
   "source": [
    "ser=pd.Series(['a','b','d','e','f','g','h','i','j','k'])"
   ]
  },
  {
   "cell_type": "code",
   "execution_count": 26,
   "id": "b3ccff90-122b-4fc2-9ec9-15fecc4469a8",
   "metadata": {},
   "outputs": [
    {
     "name": "stdout",
     "output_type": "stream",
     "text": [
      "0    a\n",
      "1    b\n",
      "2    d\n",
      "3    e\n",
      "4    f\n",
      "5    g\n",
      "6    h\n",
      "7    i\n",
      "8    j\n",
      "9    k\n",
      "dtype: object\n"
     ]
    }
   ],
   "source": [
    "print(ser)"
   ]
  },
  {
   "cell_type": "markdown",
   "id": "dad53ee1-2bad-4424-aae6-92e32aec36a2",
   "metadata": {},
   "source": [
    "### QUESTION-3"
   ]
  },
  {
   "cell_type": "code",
   "execution_count": 18,
   "id": "29de096e-86c2-4d36-bf67-f5c5b04cae94",
   "metadata": {},
   "outputs": [],
   "source": [
    "a=pd.DataFrame({'Name':['Alice','Bob','Claire'],'Age':[25,30,27],'Gender':['Female','male','Female']})"
   ]
  },
  {
   "cell_type": "code",
   "execution_count": 19,
   "id": "eb2ead93-b77d-4795-813f-235a1ce822db",
   "metadata": {},
   "outputs": [
    {
     "data": {
      "text/html": [
       "<div>\n",
       "<style scoped>\n",
       "    .dataframe tbody tr th:only-of-type {\n",
       "        vertical-align: middle;\n",
       "    }\n",
       "\n",
       "    .dataframe tbody tr th {\n",
       "        vertical-align: top;\n",
       "    }\n",
       "\n",
       "    .dataframe thead th {\n",
       "        text-align: right;\n",
       "    }\n",
       "</style>\n",
       "<table border=\"1\" class=\"dataframe\">\n",
       "  <thead>\n",
       "    <tr style=\"text-align: right;\">\n",
       "      <th></th>\n",
       "      <th>Name</th>\n",
       "      <th>Age</th>\n",
       "      <th>Gender</th>\n",
       "    </tr>\n",
       "  </thead>\n",
       "  <tbody>\n",
       "    <tr>\n",
       "      <th>0</th>\n",
       "      <td>Alice</td>\n",
       "      <td>25</td>\n",
       "      <td>Female</td>\n",
       "    </tr>\n",
       "    <tr>\n",
       "      <th>1</th>\n",
       "      <td>Bob</td>\n",
       "      <td>30</td>\n",
       "      <td>male</td>\n",
       "    </tr>\n",
       "    <tr>\n",
       "      <th>2</th>\n",
       "      <td>Claire</td>\n",
       "      <td>27</td>\n",
       "      <td>Female</td>\n",
       "    </tr>\n",
       "  </tbody>\n",
       "</table>\n",
       "</div>"
      ],
      "text/plain": [
       "     Name  Age  Gender\n",
       "0   Alice   25  Female\n",
       "1     Bob   30    male\n",
       "2  Claire   27  Female"
      ]
     },
     "execution_count": 19,
     "metadata": {},
     "output_type": "execute_result"
    }
   ],
   "source": [
    "a"
   ]
  },
  {
   "cell_type": "markdown",
   "id": "05106d25-f9fc-48df-81b1-b3c3cbad7054",
   "metadata": {},
   "source": [
    "\n",
    "### QUESTION-4"
   ]
  },
  {
   "cell_type": "code",
   "execution_count": null,
   "id": "0e6db3c7-ca57-4e8b-bd1c-cc83a0c3acd0",
   "metadata": {},
   "outputs": [],
   "source": [
    "# Pandas Series: One-dimensiona,Homogenous – Series elements must be of the same data type.\n",
    "# Size-immutable – Once created, the size of a Series object cannot be changed\n",
    "# Pandas DataFrame: Two-dimensional,Heterogenous – DataFrame elements can have different data types\n",
    "# Size-mutable – Elements can be dropped or added in an existing DataFrame."
   ]
  },
  {
   "cell_type": "markdown",
   "id": "12faeff6-2ff3-4d4a-9b2d-c67461b706f1",
   "metadata": {},
   "source": [
    "### QUESTION-5"
   ]
  },
  {
   "cell_type": "code",
   "execution_count": null,
   "id": "addbd9c3-1436-4cec-99b7-86d19c1a00b4",
   "metadata": {},
   "outputs": [],
   "source": [
    "# DroppinSorting the DataFrame using sort_values() method. the missing values in DataFrame, \n",
    "# it can be done using the dropna() method, it removes all the NaN values in the dataframe.\n",
    "# df.dropna()\n",
    "# Sorting the DataFrame using sort_values() method.\n",
    "# you can use pandas insert() function to add a new column to a DataFrame. "
   ]
  },
  {
   "cell_type": "markdown",
   "id": "18e46296-fcfd-488a-9064-395db90fba85",
   "metadata": {},
   "source": [
    "### QUESTION-6"
   ]
  },
  {
   "cell_type": "code",
   "execution_count": null,
   "id": "71bc4b3b-c2cd-4f11-9b0b-ab59612762fc",
   "metadata": {},
   "outputs": [],
   "source": [
    "# Series – 1D labeled homogeneous array, size immutable\n",
    "# Data Frames – 2D labeled, size-mutable tabular structure with heterogenic columns\n",
    "# Panel – 3D labeled size mutable array.\n"
   ]
  },
  {
   "cell_type": "markdown",
   "id": "a1de890a-d293-4297-a2d1-1ba067fab26a",
   "metadata": {},
   "source": [
    "### QUESTION-7"
   ]
  },
  {
   "cell_type": "code",
   "execution_count": 63,
   "id": "5967e828-bee0-444d-8bde-0b465ea18e8a",
   "metadata": {},
   "outputs": [],
   "source": [
    "\n",
    "df= pd.DataFrame({'A': pd.Series([1,2,3,4]),'B':pd.Series([2,3,4,5])})"
   ]
  },
  {
   "cell_type": "code",
   "execution_count": 65,
   "id": "993b83c1-5b69-44fb-b87d-66651b55317c",
   "metadata": {},
   "outputs": [
    {
     "data": {
      "text/html": [
       "<div>\n",
       "<style scoped>\n",
       "    .dataframe tbody tr th:only-of-type {\n",
       "        vertical-align: middle;\n",
       "    }\n",
       "\n",
       "    .dataframe tbody tr th {\n",
       "        vertical-align: top;\n",
       "    }\n",
       "\n",
       "    .dataframe thead th {\n",
       "        text-align: right;\n",
       "    }\n",
       "</style>\n",
       "<table border=\"1\" class=\"dataframe\">\n",
       "  <thead>\n",
       "    <tr style=\"text-align: right;\">\n",
       "      <th></th>\n",
       "      <th>A</th>\n",
       "      <th>B</th>\n",
       "    </tr>\n",
       "  </thead>\n",
       "  <tbody>\n",
       "    <tr>\n",
       "      <th>0</th>\n",
       "      <td>1</td>\n",
       "      <td>2</td>\n",
       "    </tr>\n",
       "    <tr>\n",
       "      <th>1</th>\n",
       "      <td>2</td>\n",
       "      <td>3</td>\n",
       "    </tr>\n",
       "    <tr>\n",
       "      <th>2</th>\n",
       "      <td>3</td>\n",
       "      <td>4</td>\n",
       "    </tr>\n",
       "    <tr>\n",
       "      <th>3</th>\n",
       "      <td>4</td>\n",
       "      <td>5</td>\n",
       "    </tr>\n",
       "  </tbody>\n",
       "</table>\n",
       "</div>"
      ],
      "text/plain": [
       "   A  B\n",
       "0  1  2\n",
       "1  2  3\n",
       "2  3  4\n",
       "3  4  5"
      ]
     },
     "execution_count": 65,
     "metadata": {},
     "output_type": "execute_result"
    }
   ],
   "source": [
    "df"
   ]
  },
  {
   "cell_type": "code",
   "execution_count": null,
   "id": "aeb84133-0471-4e0a-8282-3732601f4b3d",
   "metadata": {},
   "outputs": [],
   "source": []
  },
  {
   "cell_type": "code",
   "execution_count": null,
   "id": "450e360a-84d5-4642-9b7d-24373669afda",
   "metadata": {},
   "outputs": [],
   "source": []
  }
 ],
 "metadata": {
  "kernelspec": {
   "display_name": "Python 3 (ipykernel)",
   "language": "python",
   "name": "python3"
  },
  "language_info": {
   "codemirror_mode": {
    "name": "ipython",
    "version": 3
   },
   "file_extension": ".py",
   "mimetype": "text/x-python",
   "name": "python",
   "nbconvert_exporter": "python",
   "pygments_lexer": "ipython3",
   "version": "3.10.8"
  }
 },
 "nbformat": 4,
 "nbformat_minor": 5
}
