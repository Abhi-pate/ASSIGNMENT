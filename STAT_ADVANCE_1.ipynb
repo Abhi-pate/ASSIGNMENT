{
 "cells": [
  {
   "cell_type": "markdown",
   "id": "993ab005-de96-47a3-962f-90e325005a9b",
   "metadata": {},
   "source": [
    "### QUESTION-1"
   ]
  },
  {
   "cell_type": "code",
   "execution_count": null,
   "id": "b8821d72-e5c0-4f52-8406-02aed1cd9137",
   "metadata": {},
   "outputs": [],
   "source": [
    "# The Probability Density Function(PDF) defines the probability function representing \n",
    "# the density of a continuous random variable lying between a specific range of values."
   ]
  },
  {
   "cell_type": "markdown",
   "id": "4b8596a2-b167-48b1-b339-35ee04d18ca6",
   "metadata": {},
   "source": [
    "### QUESTION-2"
   ]
  },
  {
   "cell_type": "code",
   "execution_count": null,
   "id": "fc72d250-4d3a-4205-9290-3c6aabf5d79c",
   "metadata": {},
   "outputs": [],
   "source": [
    "# Discrete probability distributions.\n",
    "# Continuous probability distributions."
   ]
  },
  {
   "cell_type": "markdown",
   "id": "b5013983-4fdf-4327-94a5-5b00024d0004",
   "metadata": {},
   "source": [
    "### QUESTION-3"
   ]
  },
  {
   "cell_type": "code",
   "execution_count": 43,
   "id": "5950d37d-5bae-410e-9be3-2e85c7199a31",
   "metadata": {},
   "outputs": [],
   "source": [
    "import math\n",
    "def pdf(mean,std,x):\n",
    "    coffie = 1/math.sqrt(2*math.pi)*std\n",
    "    expo = -1*(x-mean)**2/(2*std**2)\n",
    "    return coffie*math.exp(expo)"
   ]
  },
  {
   "cell_type": "code",
   "execution_count": 14,
   "id": "88cf17e2-02fe-4924-a2c8-cfd3c97a1614",
   "metadata": {},
   "outputs": [
    {
     "data": {
      "text/plain": [
       "0.9583440165670568"
      ]
     },
     "execution_count": 14,
     "metadata": {},
     "output_type": "execute_result"
    }
   ],
   "source": [
    "pdf(2,3,4)"
   ]
  },
  {
   "cell_type": "markdown",
   "id": "deefa754-7ccc-45a1-878c-a705b148b396",
   "metadata": {},
   "source": [
    "### QUESTION-4"
   ]
  },
  {
   "cell_type": "code",
   "execution_count": null,
   "id": "aa69052b-4395-4180-80dc-f92644a424e8",
   "metadata": {},
   "outputs": [],
   "source": [
    "# There are two possible outcomes: true or false, success or failure, yes or no.\n",
    "# There is ‘n’ number of independent trials or a fixed number of n times repeated trials.\n",
    "# The probability of success or failure remains the same for each trial.\n",
    "# EX1-TOSSING COIN MORE THAN ONE TIMES\n",
    "# EX2- To find the number of male and female employees in an organisation."
   ]
  },
  {
   "cell_type": "markdown",
   "id": "ada6512b-757d-4ee5-9067-230d3041b23c",
   "metadata": {},
   "source": [
    "### QUESTION-5"
   ]
  },
  {
   "cell_type": "code",
   "execution_count": 42,
   "id": "4aa4352f-1764-4d9f-9255-5064d3dbc165",
   "metadata": {},
   "outputs": [
    {
     "data": {
      "text/plain": [
       "<AxesSubplot: ylabel='Count'>"
      ]
     },
     "execution_count": 42,
     "metadata": {},
     "output_type": "execute_result"
    },
    {
     "data": {
      "image/png": "[encoded data removed]",
      "text/plain": [
       "<Figure size 640x480 with 1 Axes>"
      ]
     },
     "metadata": {},
     "output_type": "display_data"
    }
   ],
   "source": [
    "import numpy as np\n",
    "import seaborn as sns\n",
    "n=10\n",
    "p=0.4\n",
    "binomial=np.random.binomial(10,.4,1000)\n",
    "sns.histplot(binomial,kde=True)"
   ]
  },
  {
   "cell_type": "markdown",
   "id": "18cef0cc-171d-4e4a-8575-9279c968d8eb",
   "metadata": {},
   "source": [
    "### QUESTION-6"
   ]
  },
  {
   "cell_type": "code",
   "execution_count": 32,
   "id": "ed526b7d-96a6-43ba-8793-0fb92ce7751b",
   "metadata": {},
   "outputs": [],
   "source": [
    "def cdf_possion(mean, x):\n",
    "    if x<0:\n",
    "        return 0\n",
    "    else:\n",
    "        cdf=0\n",
    "        for i in range(x+1):\n",
    "            cdf += math.exp(-mean)*mean**x/(math.factorial(x))\n",
    "            return cdf  "
   ]
  },
  {
   "cell_type": "code",
   "execution_count": 37,
   "id": "ae82f657-d854-4a13-aeb2-b00d88ec0c34",
   "metadata": {},
   "outputs": [
    {
     "data": {
      "text/plain": [
       "0.22404180765538775"
      ]
     },
     "execution_count": 37,
     "metadata": {},
     "output_type": "execute_result"
    }
   ],
   "source": [
    "cdf_possion(3,3)"
   ]
  },
  {
   "cell_type": "markdown",
   "id": "d9aece5c-4e00-4952-a9b4-a341ccaeb4aa",
   "metadata": {},
   "source": [
    "### QUESTION-7"
   ]
  },
  {
   "cell_type": "code",
   "execution_count": null,
   "id": "99d0a6ef-a0af-47d2-ab8b-07a32be897c5",
   "metadata": {},
   "outputs": [],
   "source": [
    "# In a Binomial distribution, there is a fixed number of trials (e.g. flip a coin 3 times) \n",
    "# In a Poisson distribution, there could be any number of events that occur during a certain time interval.\n",
    "# (e.g. how many customers will arrive at a store in a given hour?)"
   ]
  },
  {
   "cell_type": "markdown",
   "id": "c18c81a9-8d45-4d33-8be7-42153afc8e01",
   "metadata": {},
   "source": [
    "### QUESTION-8"
   ]
  },
  {
   "cell_type": "code",
   "execution_count": 44,
   "id": "0ce5b87a-2979-4ff3-b64a-782ef8842d4c",
   "metadata": {},
   "outputs": [],
   "source": [
    "   s= np.random.poisson(5,1000)"
   ]
  },
  {
   "cell_type": "code",
   "execution_count": 45,
   "id": "7c35b7f6-ab9a-4d87-bc51-e0caf9d45205",
   "metadata": {},
   "outputs": [
    {
     "data": {
      "text/plain": [
       "array([ 8,  4,  4,  8,  5,  1,  6,  0,  5,  8,  1,  4,  5,  5,  7,  2,  6,\n",
       "        5,  7,  8,  8,  3,  1,  4, 11,  5,  8,  5,  5,  5,  7,  4,  8,  7,\n",
       "        3,  3,  6,  9,  3,  8,  6,  8,  4,  4,  5,  4,  3,  4,  7,  3,  5,\n",
       "        8,  4,  5,  5,  7,  2,  2,  3,  9,  3,  3,  4,  5,  8,  4,  6,  5,\n",
       "        9,  5,  6,  2,  6,  5,  4,  5,  5,  4,  2,  4,  6,  3,  3,  7,  5,\n",
       "        6,  3,  3,  5,  7, 11,  1,  5,  3,  4,  3,  8,  8,  6,  6,  5,  2,\n",
       "        4,  5,  3,  6, 15,  3,  3,  4,  4,  6,  5,  3,  3,  4,  8,  5,  5,\n",
       "        4,  8,  3,  3,  7,  4,  4,  8,  5,  3,  2,  4,  6,  5,  2, 10,  1,\n",
       "        6,  5,  3,  0,  4,  8,  3,  4,  6,  5,  7,  4,  5,  3,  2,  8,  7,\n",
       "        8,  5,  5,  6,  5,  8,  5,  5,  5,  6,  5,  5,  7,  3,  7,  7,  5,\n",
       "        7, 11,  1,  6,  4,  3,  3,  7,  6,  3,  0,  5,  7,  8,  1,  1,  2,\n",
       "        2,  3,  4,  2,  4,  3,  7,  5,  9,  6,  4,  9,  3,  1,  3,  4,  4,\n",
       "        3,  5,  3,  4,  3,  5,  6,  6,  3,  6,  5,  7,  4,  4,  7,  7,  3,\n",
       "        4,  7,  7,  3,  4,  4,  1,  5,  4,  8,  5,  3,  1,  2,  8,  7,  5,\n",
       "        5,  4,  5,  6,  3,  1,  2,  7,  6,  8,  4,  4,  6,  8,  3,  5,  6,\n",
       "        6,  8,  1,  2,  1,  6,  8,  9,  5,  4,  7, 11,  6,  8,  2,  2,  3,\n",
       "        8,  5,  5,  4,  2,  7,  3,  4,  7,  4,  5,  6,  8,  3,  4,  7,  6,\n",
       "        6,  6,  4,  5, 10,  7,  5,  4,  4,  7,  5,  3,  4,  5,  7,  3,  5,\n",
       "        3,  5,  3,  3,  9, 10,  5,  5,  6,  5,  8,  3,  3,  6,  4,  6,  6,\n",
       "        9,  3,  3,  6,  3, 10,  4,  6,  9,  7,  6,  5,  6,  4,  6,  5,  8,\n",
       "        8,  8,  3,  9,  3,  9,  4,  5,  2,  5,  2,  6,  6,  4,  2,  4,  5,\n",
       "        2,  2,  2,  8,  7,  7,  5,  4,  3,  4,  4,  5,  5,  6,  2,  2,  4,\n",
       "        8,  5,  2,  3,  5,  4,  6,  8,  7,  6,  3,  2,  5,  2,  9,  5,  6,\n",
       "        2,  5, 10,  1,  8,  7,  5,  2,  3,  5, 10,  5,  6, 10,  4,  3,  6,\n",
       "        5,  5,  4,  3,  8,  3,  5,  5,  3,  6,  4,  5,  5,  6,  2,  3,  3,\n",
       "        2,  7,  2,  5,  4,  3,  4,  3,  5,  2,  4,  5,  8,  7,  5,  1,  3,\n",
       "        7,  2,  3,  8,  4,  4,  4,  4,  7,  5,  3,  6,  7,  6,  4,  8,  3,\n",
       "       10, 10,  2,  5,  4,  7,  3,  5,  3,  4,  5,  6,  6,  2,  4,  3,  7,\n",
       "        5,  3,  7,  7,  4,  4,  4,  4,  4,  5, 13,  8,  5,  4,  8,  7,  7,\n",
       "       10,  5,  2,  2,  4,  2,  6,  1,  4,  8,  5,  8,  7,  6, 11,  4,  7,\n",
       "        4,  3,  4,  3,  5,  3, 10,  5,  4,  3,  6,  5,  5,  6,  4,  3,  6,\n",
       "        2,  5,  3,  5,  7,  5,  3,  3,  5,  1,  7,  4,  5,  2,  5,  3,  8,\n",
       "        4,  3,  2,  6,  9,  6,  6,  6,  3,  7,  6,  7,  6,  5,  2,  8,  7,\n",
       "        5,  7,  6,  6,  4,  2,  4,  6,  5,  4,  6,  4,  3,  4,  5,  7,  7,\n",
       "        7,  4,  3,  3,  6,  7,  6,  3,  3,  7,  6,  5,  2,  7,  7,  5,  4,\n",
       "        6,  2,  5,  1,  5,  1,  7,  6,  5,  6,  6,  9,  8,  4,  6,  2,  6,\n",
       "        4,  1,  8,  5,  5,  6,  7,  3,  4,  5,  3,  7,  2,  2,  1,  9,  4,\n",
       "        5,  7,  3,  5,  4,  3,  7,  5,  5,  4,  5,  3,  3,  3,  6,  6,  2,\n",
       "        4,  8,  8,  8,  4,  4,  5,  5,  6,  6,  2,  3,  7,  2,  4,  2,  5,\n",
       "        5,  8,  4,  4,  5,  3,  4,  6,  2,  9,  5,  0,  7,  4,  2,  4,  5,\n",
       "        4,  4,  7,  7,  3,  5,  4,  5,  8,  2,  2,  3,  5,  6,  7,  3,  7,\n",
       "        5,  5,  5,  4,  8,  7,  5,  2,  4,  9,  8,  2, 11,  9,  7,  4,  5,\n",
       "        5,  8,  6,  8,  9,  4,  3,  5,  4,  6,  7,  8,  7,  3,  9,  6,  3,\n",
       "        3,  1,  3,  3,  7,  5,  7,  2,  6,  3,  5,  6,  5,  2,  3, 10,  7,\n",
       "        3,  2,  7,  6,  2,  3,  5,  4,  3,  3,  2,  4,  5,  7,  5,  2,  3,\n",
       "        3,  4,  5,  7,  5,  4,  5,  4,  5,  7,  3,  5,  3,  3,  4,  2,  4,\n",
       "       12,  3,  5,  5,  5,  2,  6,  6,  1,  4,  7,  4,  6,  6,  9,  8,  4,\n",
       "        8,  3,  3,  5,  7,  5,  6,  6,  4,  3,  8,  3,  1,  3, 10,  6,  3,\n",
       "        5,  9,  0,  4,  2,  2,  2,  4,  7,  6,  6,  2,  5,  5,  7,  3,  2,\n",
       "        4,  7,  5,  7,  7,  2,  7,  5,  4,  8,  7,  4,  5,  3,  4,  1,  3,\n",
       "        5,  5,  3,  3,  4,  5,  3,  9,  7,  3,  7,  8,  3,  4, 10,  3,  3,\n",
       "        5,  5,  8,  6,  8,  3,  3,  1,  1,  4,  5,  1,  6,  6,  8,  5,  6,\n",
       "        6,  6,  3,  4,  4,  4,  4,  5,  6,  4,  4,  5,  7,  1, 10,  2,  7,\n",
       "        2,  3,  4,  9,  5,  3,  6,  6,  3,  3,  4,  8,  7,  4,  3,  4,  1,\n",
       "        6,  7,  2,  3,  8,  5,  8,  4,  6,  4,  3,  6,  2,  3,  6,  9,  9,\n",
       "        4,  1,  6,  5,  7,  8,  7,  5,  4,  5,  4,  4,  3,  5,  5,  9,  3,\n",
       "        5,  8,  4,  9,  2,  9,  5,  6,  4,  3,  7,  6,  4,  3,  7,  8,  5,\n",
       "        7,  2,  8,  4,  6,  3,  6,  9,  5,  2,  5,  4,  3,  4,  7,  3,  5,\n",
       "        2,  6,  6,  5,  2,  6,  6,  4,  3,  5,  5,  6,  7,  7])"
      ]
     },
     "execution_count": 45,
     "metadata": {},
     "output_type": "execute_result"
    }
   ],
   "source": [
    "s"
   ]
  },
  {
   "cell_type": "code",
   "execution_count": 47,
   "id": "403f9877-7a8b-4b8a-b257-2a51562f0a2e",
   "metadata": {},
   "outputs": [],
   "source": [
    "import statistics as st"
   ]
  },
  {
   "cell_type": "code",
   "execution_count": 48,
   "id": "3fd725d5-1c2e-4960-a587-c7c09ca2e3c6",
   "metadata": {},
   "outputs": [
    {
     "data": {
      "text/plain": [
       "4"
      ]
     },
     "execution_count": 48,
     "metadata": {},
     "output_type": "execute_result"
    }
   ],
   "source": [
    "st.mean(s)"
   ]
  },
  {
   "cell_type": "code",
   "execution_count": 49,
   "id": "40f7d500-6530-4729-b307-99ce99e11498",
   "metadata": {},
   "outputs": [
    {
     "data": {
      "text/plain": [
       "4"
      ]
     },
     "execution_count": 49,
     "metadata": {},
     "output_type": "execute_result"
    }
   ],
   "source": [
    "st.variance(s)"
   ]
  },
  {
   "cell_type": "code",
   "execution_count": 51,
   "id": "f2066c40-45cc-4f43-a82f-b8aa881d24f3",
   "metadata": {},
   "outputs": [
    {
     "data": {
      "text/plain": [
       "<AxesSubplot: ylabel='Count'>"
      ]
     },
     "execution_count": 51,
     "metadata": {},
     "output_type": "execute_result"
    },
    {
     "data": {
      "image/png": "[encoded data removed]",
      "text/plain": [
       "<Figure size 640x480 with 1 Axes>"
      ]
     },
     "metadata": {},
     "output_type": "display_data"
    }
   ],
   "source": [
    "sns.histplot(s)"
   ]
  },
  {
   "cell_type": "markdown",
   "id": "d7fac263-049f-4b0b-a5fa-4d6c40785aae",
   "metadata": {},
   "source": [
    "### QUESTION-9"
   ]
  },
  {
   "cell_type": "code",
   "execution_count": null,
   "id": "eb0699da-c5d3-44f9-be96-a356b1020489",
   "metadata": {},
   "outputs": [],
   "source": [
    "# In binomial distribution Mean > Variance while in poisson distribution mean = variance."
   ]
  },
  {
   "cell_type": "markdown",
   "id": "23f4fe11-6feb-4075-b21b-46f725f98d9b",
   "metadata": {},
   "source": [
    "### QUESTION-10"
   ]
  },
  {
   "cell_type": "code",
   "execution_count": null,
   "id": "a22f7aa2-b86c-4a5e-8a3f-4ce261ed5dc8",
   "metadata": {},
   "outputs": [],
   "source": [
    "# DATA WILL BE LESS PRESENT AT THE  EDGES OF THE CURVE"
   ]
  }
 ],
 "metadata": {
  "kernelspec": {
   "display_name": "Python 3 (ipykernel)",
   "language": "python",
   "name": "python3"
  },
  "language_info": {
   "codemirror_mode": {
    "name": "ipython",
    "version": 3
   },
   "file_extension": ".py",
   "mimetype": "text/x-python",
   "name": "python",
   "nbconvert_exporter": "python",
   "pygments_lexer": "ipython3",
   "version": "3.10.8"
  }
 },
 "nbformat": 4,
 "nbformat_minor": 5
}
