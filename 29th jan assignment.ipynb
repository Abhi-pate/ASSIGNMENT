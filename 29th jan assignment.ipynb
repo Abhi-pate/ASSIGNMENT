{
 "cells": [
  {
   "cell_type": "markdown",
   "id": "ef252c6f-01b0-44e6-a3cf-06c14b9cae78",
   "metadata": {},
   "source": [
    "### Question -1"
   ]
  },
  {
   "cell_type": "code",
   "execution_count": null,
   "id": "285c3079-eb7d-4550-a484-9a727ab1f9bb",
   "metadata": {},
   "outputs": [],
   "source": [
    " # Guido van Rossum"
   ]
  },
  {
   "cell_type": "markdown",
   "id": "7c1cbc19-b941-4090-8e01-1abf46837455",
   "metadata": {},
   "source": [
    "### Question -2"
   ]
  },
  {
   "cell_type": "code",
   "execution_count": 2,
   "id": "4ea194a8-b41a-4218-8b57-9cb6f6b879ad",
   "metadata": {},
   "outputs": [],
   "source": [
    "# Python is an interpreted, interactive, object-oriented programming language."
   ]
  },
  {
   "cell_type": "markdown",
   "id": "96f9cf97-a3f8-45a1-9420-566b4c360f5b",
   "metadata": {},
   "source": [
    "### Question-3"
   ]
  },
  {
   "cell_type": "code",
   "execution_count": 3,
   "id": "5d2f57a5-f858-413b-b4b6-f28562272b73",
   "metadata": {},
   "outputs": [],
   "source": [
    "# Yes, Python is a case-sensitive language."
   ]
  },
  {
   "cell_type": "markdown",
   "id": "d0ca0372-3f43-42ed-8270-382c8395a702",
   "metadata": {},
   "source": [
    "### Question-4"
   ]
  },
  {
   "cell_type": "code",
   "execution_count": 4,
   "id": "4bf48cf8-305c-40f2-9118-1a21851cfffd",
   "metadata": {},
   "outputs": [],
   "source": [
    "# .py"
   ]
  },
  {
   "cell_type": "markdown",
   "id": "5a33c9c9-c7d1-4eee-8a8c-16efdb1935c8",
   "metadata": {},
   "source": [
    "### Question-5"
   ]
  },
  {
   "cell_type": "code",
   "execution_count": 5,
   "id": "ef0fbd50-e4e1-46fe-8a69-72915e1432a6",
   "metadata": {},
   "outputs": [],
   "source": [
    "# Python is an interpreted language"
   ]
  },
  {
   "cell_type": "markdown",
   "id": "8e686a3d-5968-4a3f-9518-d433ae1c71aa",
   "metadata": {},
   "source": [
    "### Question-6"
   ]
  },
  {
   "cell_type": "code",
   "execution_count": 6,
   "id": "b1ea4189-10fe-43b9-956f-07c4729d6695",
   "metadata": {},
   "outputs": [],
   "source": [
    "# print(\"hello pwskills\")"
   ]
  },
  {
   "cell_type": "markdown",
   "id": "395f2377-0230-4578-81ee-c17d4986d556",
   "metadata": {},
   "source": [
    "### Question-7"
   ]
  },
  {
   "cell_type": "code",
   "execution_count": 8,
   "id": "3d120a38-b7fe-47a0-b033-4afb2d5ab52b",
   "metadata": {},
   "outputs": [],
   "source": [
    " # character"
   ]
  },
  {
   "cell_type": "markdown",
   "id": "8f74ad9a-4966-461a-abd9-c698a3bb3d56",
   "metadata": {},
   "source": [
    "### Question-8"
   ]
  },
  {
   "cell_type": "code",
   "execution_count": 9,
   "id": "84a12f18-3481-49c1-8a93-fd98acda6f7c",
   "metadata": {},
   "outputs": [],
   "source": [
    " # .python_version()"
   ]
  },
  {
   "cell_type": "markdown",
   "id": "a410d6fc-71bb-4ad2-9d66-5ee0fdf7d158",
   "metadata": {},
   "source": [
    "### Question-9"
   ]
  },
  {
   "cell_type": "code",
   "execution_count": 10,
   "id": "eb98767d-5cd8-43c0-bc18-d7d918d52be4",
   "metadata": {},
   "outputs": [],
   "source": [
    "# It uses a construct called \"lambda\""
   ]
  },
  {
   "cell_type": "markdown",
   "id": "e277fff2-5897-46e3-b203-8289b2a1e199",
   "metadata": {},
   "source": [
    "### Question-10"
   ]
  },
  {
   "cell_type": "code",
   "execution_count": 11,
   "id": "aa60d70d-9b43-48c0-965b-b449aa9ac31e",
   "metadata": {},
   "outputs": [],
   "source": [
    "# pip stands for \"preferred installer program\""
   ]
  },
  {
   "cell_type": "markdown",
   "id": "5667f4fb-eb1c-4e4a-b537-ae924ab89e16",
   "metadata": {},
   "source": [
    "### Question-11"
   ]
  },
  {
   "cell_type": "code",
   "execution_count": 13,
   "id": "81fe2516-66d3-44ef-9e6d-d69285fa1064",
   "metadata": {},
   "outputs": [],
   "source": [
    "# print(), sum(),len(), type()"
   ]
  },
  {
   "cell_type": "markdown",
   "id": "b6fb48d2-a733-4d03-b3ab-c7404947e4d2",
   "metadata": {},
   "source": [
    "### Question-12"
   ]
  },
  {
   "cell_type": "code",
   "execution_count": 14,
   "id": "f453dd0a-e5b6-49cc-b68c-bfd38fd59fcf",
   "metadata": {},
   "outputs": [],
   "source": [
    "# An identifier can have a maximum length of 79 characters in Python"
   ]
  },
  {
   "cell_type": "markdown",
   "id": "4c0031a1-dd22-47eb-8119-7146bd54c6b3",
   "metadata": {},
   "source": [
    "### Question-13"
   ]
  },
  {
   "cell_type": "code",
   "execution_count": 15,
   "id": "0c464dbc-6124-4f5c-a3b7-bfe8063639a5",
   "metadata": {},
   "outputs": [],
   "source": [
    "# Python programming is a general-purpose skill used in almost all fields, including: \n",
    "\n",
    "# Data science\n",
    "# Scientific and mathematical computing\n",
    "# Web development\n",
    "# Finance and trading\n",
    "# System automation and administration\n",
    "# Computer graphics etc"
   ]
  },
  {
   "cell_type": "markdown",
   "id": "c79a9949-abdc-4d7e-8381-3f02924e9e85",
   "metadata": {},
   "source": [
    "### Question-14"
   ]
  },
  {
   "cell_type": "code",
   "execution_count": 16,
   "id": "0d3aa6c8-b56b-405b-a8a6-acf93346092e",
   "metadata": {},
   "outputs": [],
   "source": [
    "# Memory management in Python involves a private heap containing all Python objects and data structures. \n",
    "# The management of this private heap is ensured internally by the Python memory manager."
   ]
  },
  {
   "cell_type": "markdown",
   "id": "39cb26a7-2502-4a76-bffd-3907150f1510",
   "metadata": {},
   "source": [
    "### Question-15"
   ]
  },
  {
   "cell_type": "code",
   "execution_count": 18,
   "id": "dd63c5c1-1d15-4446-b59d-d424e197cd59",
   "metadata": {},
   "outputs": [],
   "source": [
    "# The complete path of python.exe can be added by:\n",
    "# Right-clicking This PC and going to Properties.\n",
    "# Clicking on the Advanced system settings in the menu on the left.\n",
    "# Clicking on the Environment Variables button on the bottom right.\n",
    "# In the System variables section, selecting the Path variable and clicking on Edit. \n",
    "# The next screen will show all the directories that are currently a part of the PATH variable.\n",
    "# Clicking on New and entering Python’s install directory."
   ]
  },
  {
   "cell_type": "markdown",
   "id": "caea7c6f-3da9-4123-8f93-d710659b153a",
   "metadata": {},
   "source": [
    "### Question-16"
   ]
  },
  {
   "cell_type": "code",
   "execution_count": null,
   "id": "55981820-8c5d-424d-ac93-d108f51595b2",
   "metadata": {},
   "outputs": [],
   "source": []
  }
 ],
 "metadata": {
  "kernelspec": {
   "display_name": "Python 3 (ipykernel)",
   "language": "python",
   "name": "python3"
  },
  "language_info": {
   "codemirror_mode": {
    "name": "ipython",
    "version": 3
   },
   "file_extension": ".py",
   "mimetype": "text/x-python",
   "name": "python",
   "nbconvert_exporter": "python",
   "pygments_lexer": "ipython3",
   "version": "3.10.8"
  }
 },
 "nbformat": 4,
 "nbformat_minor": 5
}
